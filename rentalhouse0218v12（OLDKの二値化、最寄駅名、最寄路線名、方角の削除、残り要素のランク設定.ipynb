{
 "cells": [
  {
   "cell_type": "markdown",
   "metadata": {},
   "source": [
    "読み込んだrentalhousev49_bom.csvは、2月17日に用意した元データ(rental_house_base.csv)に、以下の処理を施したもの。\n",
    "\n",
    "家賃が200000以下のものを残し、それ以外を削除した。\n",
    "\n",
    "以下を削除した。(区名、最寄駅徒歩分数、最寄路線名、駅名、路線名、方角、所在階数字、駐車場、周辺環境。)\n",
    "\n",
    "間取りを、部屋数、L,D,Kに分解して二値化した。間取り自体は削除した。Sは相関係数が低かったので削除した。\n",
    "\n",
    "バストイレに関するデータ（シャワー～共同バス）のうち、賃料と相関が高いもの6つ中いくつあるかを、バストイレランクとしてまとめた。\n",
    "（相関係数0.4以上、具体的には以下。温水洗浄便座、洗面台独立、脱衣所、追焚機能、浴室乾燥機、バス・トイレ別。）\n",
    "その後、バストイレランク以外の全てを削除した。\n",
    "\n",
    "キッチンに関するデータ（IHコンロ～冷蔵庫あり）のうち、賃料と相関が高いもの3つ中いくつあるか、逆相関が高いものがいくつあるかを、キッチンランクとしてまとめた。\n",
    "（相関係数0.3以上、具体的には以下。コンロ3口、システムキッチン、カウンターキッチン。逆相関-0.28、コンロ1口。）\n",
    "その後、キッチンランク以外の全てを削除した。\n",
    "\n",
    "通信に関するデータ（BSアンテナ～高速インターネット）のうち、賃料と相関が高いのはBSアンテナ、CSアンテナだけだった。\n",
    "BSアンテナとCSアンテナの相関係数は0.7だったので、BSアンテナのみを残し、CSアンテナ、およびそれ以外の通信に関するデータを削除した。\n",
    "\n",
    "設備に関するデータ（24時間換気～バリアフリー）のうち、賃料と相関が高いもの6つ中いくつあるかを、設備ランクとしてまとめた。\n",
    "（相関係数0.2以上、具体的には以下。24時間換気システム、床暖房、室内洗濯機置場、タイル張り、ウォークインクローゼット、シューズボックス、バルコニー、敷地内ごみ置き場。）\n",
    "エレベーターだけは相関係数0.44と高かったので、他の設備とは独立させて残した。\n",
    "\n",
    "建物構造のうち、賃料との相関が高かったRC（鉄筋コンクリート）（0.35）、逆相関が高かった木造（-0.33）を残して二値化し、それ以外を削除した。"
   ]
  },
  {
   "cell_type": "code",
   "execution_count": 1,
   "metadata": {},
   "outputs": [],
   "source": [
    "import os\n",
    "import pandas as pd\n",
    "import numpy as np\n",
    "\n",
    "df = pd.read_csv('./rentalhousev49_bom.csv')"
   ]
  },
  {
   "cell_type": "code",
   "execution_count": 2,
   "metadata": {
    "scrolled": true
   },
   "outputs": [
    {
     "data": {
      "text/html": [
       "<div>\n",
       "<style scoped>\n",
       "    .dataframe tbody tr th:only-of-type {\n",
       "        vertical-align: middle;\n",
       "    }\n",
       "\n",
       "    .dataframe tbody tr th {\n",
       "        vertical-align: top;\n",
       "    }\n",
       "\n",
       "    .dataframe thead th {\n",
       "        text-align: right;\n",
       "    }\n",
       "</style>\n",
       "<table border=\"1\" class=\"dataframe\">\n",
       "  <thead>\n",
       "    <tr style=\"text-align: right;\">\n",
       "      <th></th>\n",
       "      <th>id</th>\n",
       "      <th>賃料</th>\n",
       "      <th>区名</th>\n",
       "      <th>最寄駅徒歩分数</th>\n",
       "      <th>部屋数</th>\n",
       "      <th>L</th>\n",
       "      <th>D</th>\n",
       "      <th>K</th>\n",
       "      <th>S</th>\n",
       "      <th>築総月数</th>\n",
       "      <th>面積数字</th>\n",
       "      <th>何階建数字</th>\n",
       "      <th>バストイレランク</th>\n",
       "      <th>キッチンランク</th>\n",
       "      <th>BSアンテナ</th>\n",
       "      <th>エレベーター</th>\n",
       "      <th>設備ランク</th>\n",
       "      <th>RC（鉄筋コンクリート）</th>\n",
       "      <th>木造</th>\n",
       "    </tr>\n",
       "  </thead>\n",
       "  <tbody>\n",
       "    <tr>\n",
       "      <td>0</td>\n",
       "      <td>1</td>\n",
       "      <td>75000</td>\n",
       "      <td>北区</td>\n",
       "      <td>4</td>\n",
       "      <td>1</td>\n",
       "      <td>0</td>\n",
       "      <td>0</td>\n",
       "      <td>1</td>\n",
       "      <td>0</td>\n",
       "      <td>117</td>\n",
       "      <td>20.01</td>\n",
       "      <td>12</td>\n",
       "      <td>3</td>\n",
       "      <td>1</td>\n",
       "      <td>1</td>\n",
       "      <td>1</td>\n",
       "      <td>4</td>\n",
       "      <td>1</td>\n",
       "      <td>0</td>\n",
       "    </tr>\n",
       "    <tr>\n",
       "      <td>1</td>\n",
       "      <td>2</td>\n",
       "      <td>76000</td>\n",
       "      <td>中央区</td>\n",
       "      <td>5</td>\n",
       "      <td>1</td>\n",
       "      <td>0</td>\n",
       "      <td>0</td>\n",
       "      <td>0</td>\n",
       "      <td>0</td>\n",
       "      <td>538</td>\n",
       "      <td>16.50</td>\n",
       "      <td>10</td>\n",
       "      <td>1</td>\n",
       "      <td>1</td>\n",
       "      <td>0</td>\n",
       "      <td>1</td>\n",
       "      <td>5</td>\n",
       "      <td>0</td>\n",
       "      <td>0</td>\n",
       "    </tr>\n",
       "    <tr>\n",
       "      <td>2</td>\n",
       "      <td>3</td>\n",
       "      <td>110000</td>\n",
       "      <td>渋谷区</td>\n",
       "      <td>6</td>\n",
       "      <td>1</td>\n",
       "      <td>0</td>\n",
       "      <td>0</td>\n",
       "      <td>1</td>\n",
       "      <td>0</td>\n",
       "      <td>102</td>\n",
       "      <td>22.05</td>\n",
       "      <td>15</td>\n",
       "      <td>5</td>\n",
       "      <td>1</td>\n",
       "      <td>1</td>\n",
       "      <td>1</td>\n",
       "      <td>6</td>\n",
       "      <td>1</td>\n",
       "      <td>0</td>\n",
       "    </tr>\n",
       "    <tr>\n",
       "      <td>3</td>\n",
       "      <td>4</td>\n",
       "      <td>150000</td>\n",
       "      <td>杉並区</td>\n",
       "      <td>3</td>\n",
       "      <td>2</td>\n",
       "      <td>1</td>\n",
       "      <td>1</td>\n",
       "      <td>1</td>\n",
       "      <td>0</td>\n",
       "      <td>352</td>\n",
       "      <td>60.48</td>\n",
       "      <td>4</td>\n",
       "      <td>3</td>\n",
       "      <td>0</td>\n",
       "      <td>0</td>\n",
       "      <td>1</td>\n",
       "      <td>3</td>\n",
       "      <td>1</td>\n",
       "      <td>0</td>\n",
       "    </tr>\n",
       "    <tr>\n",
       "      <td>4</td>\n",
       "      <td>5</td>\n",
       "      <td>74000</td>\n",
       "      <td>葛飾区</td>\n",
       "      <td>5</td>\n",
       "      <td>2</td>\n",
       "      <td>0</td>\n",
       "      <td>1</td>\n",
       "      <td>1</td>\n",
       "      <td>0</td>\n",
       "      <td>379</td>\n",
       "      <td>39.66</td>\n",
       "      <td>2</td>\n",
       "      <td>2</td>\n",
       "      <td>0</td>\n",
       "      <td>0</td>\n",
       "      <td>0</td>\n",
       "      <td>2</td>\n",
       "      <td>0</td>\n",
       "      <td>1</td>\n",
       "    </tr>\n",
       "    <tr>\n",
       "      <td>...</td>\n",
       "      <td>...</td>\n",
       "      <td>...</td>\n",
       "      <td>...</td>\n",
       "      <td>...</td>\n",
       "      <td>...</td>\n",
       "      <td>...</td>\n",
       "      <td>...</td>\n",
       "      <td>...</td>\n",
       "      <td>...</td>\n",
       "      <td>...</td>\n",
       "      <td>...</td>\n",
       "      <td>...</td>\n",
       "      <td>...</td>\n",
       "      <td>...</td>\n",
       "      <td>...</td>\n",
       "      <td>...</td>\n",
       "      <td>...</td>\n",
       "      <td>...</td>\n",
       "      <td>...</td>\n",
       "    </tr>\n",
       "    <tr>\n",
       "      <td>95</td>\n",
       "      <td>103</td>\n",
       "      <td>182000</td>\n",
       "      <td>港区</td>\n",
       "      <td>13</td>\n",
       "      <td>1</td>\n",
       "      <td>1</td>\n",
       "      <td>1</td>\n",
       "      <td>1</td>\n",
       "      <td>0</td>\n",
       "      <td>0</td>\n",
       "      <td>41.33</td>\n",
       "      <td>4</td>\n",
       "      <td>3</td>\n",
       "      <td>1</td>\n",
       "      <td>1</td>\n",
       "      <td>0</td>\n",
       "      <td>3</td>\n",
       "      <td>1</td>\n",
       "      <td>0</td>\n",
       "    </tr>\n",
       "    <tr>\n",
       "      <td>96</td>\n",
       "      <td>104</td>\n",
       "      <td>95000</td>\n",
       "      <td>台東区</td>\n",
       "      <td>10</td>\n",
       "      <td>1</td>\n",
       "      <td>0</td>\n",
       "      <td>0</td>\n",
       "      <td>1</td>\n",
       "      <td>0</td>\n",
       "      <td>3</td>\n",
       "      <td>25.44</td>\n",
       "      <td>11</td>\n",
       "      <td>5</td>\n",
       "      <td>1</td>\n",
       "      <td>1</td>\n",
       "      <td>1</td>\n",
       "      <td>5</td>\n",
       "      <td>1</td>\n",
       "      <td>0</td>\n",
       "    </tr>\n",
       "    <tr>\n",
       "      <td>97</td>\n",
       "      <td>105</td>\n",
       "      <td>78000</td>\n",
       "      <td>葛飾区</td>\n",
       "      <td>17</td>\n",
       "      <td>1</td>\n",
       "      <td>0</td>\n",
       "      <td>0</td>\n",
       "      <td>1</td>\n",
       "      <td>0</td>\n",
       "      <td>166</td>\n",
       "      <td>31.68</td>\n",
       "      <td>3</td>\n",
       "      <td>5</td>\n",
       "      <td>1</td>\n",
       "      <td>1</td>\n",
       "      <td>0</td>\n",
       "      <td>6</td>\n",
       "      <td>0</td>\n",
       "      <td>0</td>\n",
       "    </tr>\n",
       "    <tr>\n",
       "      <td>98</td>\n",
       "      <td>106</td>\n",
       "      <td>103000</td>\n",
       "      <td>杉並区</td>\n",
       "      <td>19</td>\n",
       "      <td>2</td>\n",
       "      <td>0</td>\n",
       "      <td>0</td>\n",
       "      <td>1</td>\n",
       "      <td>0</td>\n",
       "      <td>332</td>\n",
       "      <td>35.00</td>\n",
       "      <td>2</td>\n",
       "      <td>1</td>\n",
       "      <td>0</td>\n",
       "      <td>0</td>\n",
       "      <td>0</td>\n",
       "      <td>2</td>\n",
       "      <td>0</td>\n",
       "      <td>0</td>\n",
       "    </tr>\n",
       "    <tr>\n",
       "      <td>99</td>\n",
       "      <td>107</td>\n",
       "      <td>105000</td>\n",
       "      <td>北区</td>\n",
       "      <td>6</td>\n",
       "      <td>1</td>\n",
       "      <td>0</td>\n",
       "      <td>0</td>\n",
       "      <td>1</td>\n",
       "      <td>0</td>\n",
       "      <td>2</td>\n",
       "      <td>25.65</td>\n",
       "      <td>5</td>\n",
       "      <td>5</td>\n",
       "      <td>1</td>\n",
       "      <td>1</td>\n",
       "      <td>1</td>\n",
       "      <td>6</td>\n",
       "      <td>1</td>\n",
       "      <td>0</td>\n",
       "    </tr>\n",
       "  </tbody>\n",
       "</table>\n",
       "<p>100 rows × 19 columns</p>\n",
       "</div>"
      ],
      "text/plain": [
       "     id      賃料   区名  最寄駅徒歩分数  部屋数  L  D  K  S  築総月数   面積数字  何階建数字  バストイレランク  \\\n",
       "0     1   75000   北区        4    1  0  0  1  0   117  20.01     12         3   \n",
       "1     2   76000  中央区        5    1  0  0  0  0   538  16.50     10         1   \n",
       "2     3  110000  渋谷区        6    1  0  0  1  0   102  22.05     15         5   \n",
       "3     4  150000  杉並区        3    2  1  1  1  0   352  60.48      4         3   \n",
       "4     5   74000  葛飾区        5    2  0  1  1  0   379  39.66      2         2   \n",
       "..  ...     ...  ...      ...  ... .. .. .. ..   ...    ...    ...       ...   \n",
       "95  103  182000   港区       13    1  1  1  1  0     0  41.33      4         3   \n",
       "96  104   95000  台東区       10    1  0  0  1  0     3  25.44     11         5   \n",
       "97  105   78000  葛飾区       17    1  0  0  1  0   166  31.68      3         5   \n",
       "98  106  103000  杉並区       19    2  0  0  1  0   332  35.00      2         1   \n",
       "99  107  105000   北区        6    1  0  0  1  0     2  25.65      5         5   \n",
       "\n",
       "    キッチンランク  BSアンテナ  エレベーター  設備ランク  RC（鉄筋コンクリート）  木造  \n",
       "0         1       1       1      4             1   0  \n",
       "1         1       0       1      5             0   0  \n",
       "2         1       1       1      6             1   0  \n",
       "3         0       0       1      3             1   0  \n",
       "4         0       0       0      2             0   1  \n",
       "..      ...     ...     ...    ...           ...  ..  \n",
       "95        1       1       0      3             1   0  \n",
       "96        1       1       1      5             1   0  \n",
       "97        1       1       0      6             0   0  \n",
       "98        0       0       0      2             0   0  \n",
       "99        1       1       1      6             1   0  \n",
       "\n",
       "[100 rows x 19 columns]"
      ]
     },
     "execution_count": 2,
     "metadata": {},
     "output_type": "execute_result"
    }
   ],
   "source": [
    "df.head(100)"
   ]
  },
  {
   "cell_type": "code",
   "execution_count": 3,
   "metadata": {
    "scrolled": true
   },
   "outputs": [
    {
     "name": "stdout",
     "output_type": "stream",
     "text": [
      "<class 'pandas.core.frame.DataFrame'>\n",
      "RangeIndex: 28613 entries, 0 to 28612\n",
      "Data columns (total 19 columns):\n",
      "id              28613 non-null int64\n",
      "賃料              28613 non-null int64\n",
      "区名              28613 non-null object\n",
      "最寄駅徒歩分数         28613 non-null int64\n",
      "部屋数             28613 non-null int64\n",
      "L               28613 non-null int64\n",
      "D               28613 non-null int64\n",
      "K               28613 non-null int64\n",
      "S               28613 non-null int64\n",
      "築総月数            28613 non-null int64\n",
      "面積数字            28613 non-null float64\n",
      "何階建数字           28613 non-null int64\n",
      "バストイレランク        28613 non-null int64\n",
      "キッチンランク         28613 non-null int64\n",
      "BSアンテナ          28613 non-null int64\n",
      "エレベーター          28613 non-null int64\n",
      "設備ランク           28613 non-null int64\n",
      "RC（鉄筋コンクリート）    28613 non-null int64\n",
      "木造              28613 non-null int64\n",
      "dtypes: float64(1), int64(17), object(1)\n",
      "memory usage: 4.1+ MB\n"
     ]
    }
   ],
   "source": [
    "df.info()"
   ]
  },
  {
   "cell_type": "code",
   "execution_count": 4,
   "metadata": {},
   "outputs": [],
   "source": [
    "pd.set_option('display.max_columns', 100)\n",
    "pd.set_option('display.max_rows', 610)\n",
    "#df"
   ]
  },
  {
   "cell_type": "code",
   "execution_count": 5,
   "metadata": {
    "scrolled": true
   },
   "outputs": [],
   "source": [
    "#df.corr()"
   ]
  },
  {
   "cell_type": "code",
   "execution_count": 6,
   "metadata": {},
   "outputs": [],
   "source": [
    "from matplotlib import pyplot as plt\n",
    "plt.rcParams['font.family'] = 'IPAexGothic'"
   ]
  },
  {
   "cell_type": "code",
   "execution_count": 7,
   "metadata": {
    "scrolled": false
   },
   "outputs": [],
   "source": [
    "import seaborn as sns\n",
    "import matplotlib.pyplot as plt\n",
    "\n",
    "df_corr = df.corr()\n",
    "\n",
    "#plt.figure(figsize=(100, 80))\n",
    "#sns.heatmap(df_corr, vmax=1, vmin=-1, center=0, cmap='bwr')"
   ]
  },
  {
   "cell_type": "code",
   "execution_count": 8,
   "metadata": {},
   "outputs": [],
   "source": [
    "pd.set_option('display.max_columns', 500)\n",
    "pd.set_option('display.max_rows', 500)"
   ]
  },
  {
   "cell_type": "code",
   "execution_count": 9,
   "metadata": {},
   "outputs": [],
   "source": [
    "#df = pd.get_dummies(df, columns=['区名'])"
   ]
  },
  {
   "cell_type": "code",
   "execution_count": 10,
   "metadata": {},
   "outputs": [],
   "source": [
    "#df = df.drop(['最寄路線名', '最寄駅名', '方角', '駐車場', '周辺環境', '契約期間', 'BSアンテナ', '間取り'], axis=1)"
   ]
  },
  {
   "cell_type": "code",
   "execution_count": 11,
   "metadata": {},
   "outputs": [],
   "source": [
    "df = df.drop(['区名'], axis=1)"
   ]
  },
  {
   "cell_type": "code",
   "execution_count": 12,
   "metadata": {},
   "outputs": [
    {
     "data": {
      "text/html": [
       "<div>\n",
       "<style scoped>\n",
       "    .dataframe tbody tr th:only-of-type {\n",
       "        vertical-align: middle;\n",
       "    }\n",
       "\n",
       "    .dataframe tbody tr th {\n",
       "        vertical-align: top;\n",
       "    }\n",
       "\n",
       "    .dataframe thead th {\n",
       "        text-align: right;\n",
       "    }\n",
       "</style>\n",
       "<table border=\"1\" class=\"dataframe\">\n",
       "  <thead>\n",
       "    <tr style=\"text-align: right;\">\n",
       "      <th></th>\n",
       "      <th>id</th>\n",
       "      <th>賃料</th>\n",
       "      <th>最寄駅徒歩分数</th>\n",
       "      <th>部屋数</th>\n",
       "      <th>L</th>\n",
       "      <th>D</th>\n",
       "      <th>K</th>\n",
       "      <th>S</th>\n",
       "      <th>築総月数</th>\n",
       "      <th>面積数字</th>\n",
       "      <th>何階建数字</th>\n",
       "      <th>バストイレランク</th>\n",
       "      <th>キッチンランク</th>\n",
       "      <th>BSアンテナ</th>\n",
       "      <th>エレベーター</th>\n",
       "      <th>設備ランク</th>\n",
       "      <th>RC（鉄筋コンクリート）</th>\n",
       "      <th>木造</th>\n",
       "    </tr>\n",
       "  </thead>\n",
       "  <tbody>\n",
       "    <tr>\n",
       "      <td>0</td>\n",
       "      <td>1</td>\n",
       "      <td>75000</td>\n",
       "      <td>4</td>\n",
       "      <td>1</td>\n",
       "      <td>0</td>\n",
       "      <td>0</td>\n",
       "      <td>1</td>\n",
       "      <td>0</td>\n",
       "      <td>117</td>\n",
       "      <td>20.01</td>\n",
       "      <td>12</td>\n",
       "      <td>3</td>\n",
       "      <td>1</td>\n",
       "      <td>1</td>\n",
       "      <td>1</td>\n",
       "      <td>4</td>\n",
       "      <td>1</td>\n",
       "      <td>0</td>\n",
       "    </tr>\n",
       "    <tr>\n",
       "      <td>1</td>\n",
       "      <td>2</td>\n",
       "      <td>76000</td>\n",
       "      <td>5</td>\n",
       "      <td>1</td>\n",
       "      <td>0</td>\n",
       "      <td>0</td>\n",
       "      <td>0</td>\n",
       "      <td>0</td>\n",
       "      <td>538</td>\n",
       "      <td>16.50</td>\n",
       "      <td>10</td>\n",
       "      <td>1</td>\n",
       "      <td>1</td>\n",
       "      <td>0</td>\n",
       "      <td>1</td>\n",
       "      <td>5</td>\n",
       "      <td>0</td>\n",
       "      <td>0</td>\n",
       "    </tr>\n",
       "    <tr>\n",
       "      <td>2</td>\n",
       "      <td>3</td>\n",
       "      <td>110000</td>\n",
       "      <td>6</td>\n",
       "      <td>1</td>\n",
       "      <td>0</td>\n",
       "      <td>0</td>\n",
       "      <td>1</td>\n",
       "      <td>0</td>\n",
       "      <td>102</td>\n",
       "      <td>22.05</td>\n",
       "      <td>15</td>\n",
       "      <td>5</td>\n",
       "      <td>1</td>\n",
       "      <td>1</td>\n",
       "      <td>1</td>\n",
       "      <td>6</td>\n",
       "      <td>1</td>\n",
       "      <td>0</td>\n",
       "    </tr>\n",
       "    <tr>\n",
       "      <td>3</td>\n",
       "      <td>4</td>\n",
       "      <td>150000</td>\n",
       "      <td>3</td>\n",
       "      <td>2</td>\n",
       "      <td>1</td>\n",
       "      <td>1</td>\n",
       "      <td>1</td>\n",
       "      <td>0</td>\n",
       "      <td>352</td>\n",
       "      <td>60.48</td>\n",
       "      <td>4</td>\n",
       "      <td>3</td>\n",
       "      <td>0</td>\n",
       "      <td>0</td>\n",
       "      <td>1</td>\n",
       "      <td>3</td>\n",
       "      <td>1</td>\n",
       "      <td>0</td>\n",
       "    </tr>\n",
       "    <tr>\n",
       "      <td>4</td>\n",
       "      <td>5</td>\n",
       "      <td>74000</td>\n",
       "      <td>5</td>\n",
       "      <td>2</td>\n",
       "      <td>0</td>\n",
       "      <td>1</td>\n",
       "      <td>1</td>\n",
       "      <td>0</td>\n",
       "      <td>379</td>\n",
       "      <td>39.66</td>\n",
       "      <td>2</td>\n",
       "      <td>2</td>\n",
       "      <td>0</td>\n",
       "      <td>0</td>\n",
       "      <td>0</td>\n",
       "      <td>2</td>\n",
       "      <td>0</td>\n",
       "      <td>1</td>\n",
       "    </tr>\n",
       "    <tr>\n",
       "      <td>...</td>\n",
       "      <td>...</td>\n",
       "      <td>...</td>\n",
       "      <td>...</td>\n",
       "      <td>...</td>\n",
       "      <td>...</td>\n",
       "      <td>...</td>\n",
       "      <td>...</td>\n",
       "      <td>...</td>\n",
       "      <td>...</td>\n",
       "      <td>...</td>\n",
       "      <td>...</td>\n",
       "      <td>...</td>\n",
       "      <td>...</td>\n",
       "      <td>...</td>\n",
       "      <td>...</td>\n",
       "      <td>...</td>\n",
       "      <td>...</td>\n",
       "      <td>...</td>\n",
       "    </tr>\n",
       "    <tr>\n",
       "      <td>28608</td>\n",
       "      <td>31466</td>\n",
       "      <td>80000</td>\n",
       "      <td>7</td>\n",
       "      <td>2</td>\n",
       "      <td>0</td>\n",
       "      <td>1</td>\n",
       "      <td>1</td>\n",
       "      <td>0</td>\n",
       "      <td>360</td>\n",
       "      <td>37.90</td>\n",
       "      <td>3</td>\n",
       "      <td>3</td>\n",
       "      <td>0</td>\n",
       "      <td>0</td>\n",
       "      <td>0</td>\n",
       "      <td>2</td>\n",
       "      <td>0</td>\n",
       "      <td>0</td>\n",
       "    </tr>\n",
       "    <tr>\n",
       "      <td>28609</td>\n",
       "      <td>31467</td>\n",
       "      <td>54500</td>\n",
       "      <td>4</td>\n",
       "      <td>1</td>\n",
       "      <td>0</td>\n",
       "      <td>0</td>\n",
       "      <td>0</td>\n",
       "      <td>0</td>\n",
       "      <td>475</td>\n",
       "      <td>12.04</td>\n",
       "      <td>4</td>\n",
       "      <td>0</td>\n",
       "      <td>-1</td>\n",
       "      <td>0</td>\n",
       "      <td>0</td>\n",
       "      <td>2</td>\n",
       "      <td>1</td>\n",
       "      <td>0</td>\n",
       "    </tr>\n",
       "    <tr>\n",
       "      <td>28610</td>\n",
       "      <td>31468</td>\n",
       "      <td>125000</td>\n",
       "      <td>5</td>\n",
       "      <td>3</td>\n",
       "      <td>0</td>\n",
       "      <td>1</td>\n",
       "      <td>1</td>\n",
       "      <td>0</td>\n",
       "      <td>550</td>\n",
       "      <td>60.00</td>\n",
       "      <td>5</td>\n",
       "      <td>3</td>\n",
       "      <td>0</td>\n",
       "      <td>0</td>\n",
       "      <td>0</td>\n",
       "      <td>3</td>\n",
       "      <td>0</td>\n",
       "      <td>0</td>\n",
       "    </tr>\n",
       "    <tr>\n",
       "      <td>28611</td>\n",
       "      <td>31469</td>\n",
       "      <td>98000</td>\n",
       "      <td>4</td>\n",
       "      <td>1</td>\n",
       "      <td>0</td>\n",
       "      <td>1</td>\n",
       "      <td>1</td>\n",
       "      <td>0</td>\n",
       "      <td>132</td>\n",
       "      <td>29.59</td>\n",
       "      <td>2</td>\n",
       "      <td>2</td>\n",
       "      <td>1</td>\n",
       "      <td>0</td>\n",
       "      <td>0</td>\n",
       "      <td>4</td>\n",
       "      <td>0</td>\n",
       "      <td>1</td>\n",
       "    </tr>\n",
       "    <tr>\n",
       "      <td>28612</td>\n",
       "      <td>31470</td>\n",
       "      <td>81000</td>\n",
       "      <td>5</td>\n",
       "      <td>1</td>\n",
       "      <td>0</td>\n",
       "      <td>0</td>\n",
       "      <td>1</td>\n",
       "      <td>0</td>\n",
       "      <td>722</td>\n",
       "      <td>25.00</td>\n",
       "      <td>3</td>\n",
       "      <td>1</td>\n",
       "      <td>0</td>\n",
       "      <td>0</td>\n",
       "      <td>0</td>\n",
       "      <td>1</td>\n",
       "      <td>0</td>\n",
       "      <td>0</td>\n",
       "    </tr>\n",
       "  </tbody>\n",
       "</table>\n",
       "<p>28613 rows × 18 columns</p>\n",
       "</div>"
      ],
      "text/plain": [
       "          id      賃料  最寄駅徒歩分数  部屋数  L  D  K  S  築総月数   面積数字  何階建数字  バストイレランク  \\\n",
       "0          1   75000        4    1  0  0  1  0   117  20.01     12         3   \n",
       "1          2   76000        5    1  0  0  0  0   538  16.50     10         1   \n",
       "2          3  110000        6    1  0  0  1  0   102  22.05     15         5   \n",
       "3          4  150000        3    2  1  1  1  0   352  60.48      4         3   \n",
       "4          5   74000        5    2  0  1  1  0   379  39.66      2         2   \n",
       "...      ...     ...      ...  ... .. .. .. ..   ...    ...    ...       ...   \n",
       "28608  31466   80000        7    2  0  1  1  0   360  37.90      3         3   \n",
       "28609  31467   54500        4    1  0  0  0  0   475  12.04      4         0   \n",
       "28610  31468  125000        5    3  0  1  1  0   550  60.00      5         3   \n",
       "28611  31469   98000        4    1  0  1  1  0   132  29.59      2         2   \n",
       "28612  31470   81000        5    1  0  0  1  0   722  25.00      3         1   \n",
       "\n",
       "       キッチンランク  BSアンテナ  エレベーター  設備ランク  RC（鉄筋コンクリート）  木造  \n",
       "0            1       1       1      4             1   0  \n",
       "1            1       0       1      5             0   0  \n",
       "2            1       1       1      6             1   0  \n",
       "3            0       0       1      3             1   0  \n",
       "4            0       0       0      2             0   1  \n",
       "...        ...     ...     ...    ...           ...  ..  \n",
       "28608        0       0       0      2             0   0  \n",
       "28609       -1       0       0      2             1   0  \n",
       "28610        0       0       0      3             0   0  \n",
       "28611        1       0       0      4             0   1  \n",
       "28612        0       0       0      1             0   0  \n",
       "\n",
       "[28613 rows x 18 columns]"
      ]
     },
     "execution_count": 12,
     "metadata": {},
     "output_type": "execute_result"
    }
   ],
   "source": [
    "df"
   ]
  },
  {
   "cell_type": "code",
   "execution_count": 13,
   "metadata": {},
   "outputs": [
    {
     "name": "stdout",
     "output_type": "stream",
     "text": [
      "<class 'pandas.core.frame.DataFrame'>\n",
      "RangeIndex: 28613 entries, 0 to 28612\n",
      "Data columns (total 18 columns):\n",
      "id              28613 non-null int64\n",
      "賃料              28613 non-null int64\n",
      "最寄駅徒歩分数         28613 non-null int64\n",
      "部屋数             28613 non-null int64\n",
      "L               28613 non-null int64\n",
      "D               28613 non-null int64\n",
      "K               28613 non-null int64\n",
      "S               28613 non-null int64\n",
      "築総月数            28613 non-null int64\n",
      "面積数字            28613 non-null float64\n",
      "何階建数字           28613 non-null int64\n",
      "バストイレランク        28613 non-null int64\n",
      "キッチンランク         28613 non-null int64\n",
      "BSアンテナ          28613 non-null int64\n",
      "エレベーター          28613 non-null int64\n",
      "設備ランク           28613 non-null int64\n",
      "RC（鉄筋コンクリート）    28613 non-null int64\n",
      "木造              28613 non-null int64\n",
      "dtypes: float64(1), int64(17)\n",
      "memory usage: 3.9 MB\n"
     ]
    }
   ],
   "source": [
    "df.info()"
   ]
  },
  {
   "cell_type": "code",
   "execution_count": 14,
   "metadata": {
    "scrolled": true
   },
   "outputs": [
    {
     "data": {
      "text/plain": [
       "<matplotlib.axes._subplots.AxesSubplot at 0x20d005debc8>"
      ]
     },
     "execution_count": 14,
     "metadata": {},
     "output_type": "execute_result"
    },
    {
     "data": {
      "image/png": "[encoded data removed]",
      "text/plain": [
       "<Figure size 7200x7200 with 2 Axes>"
      ]
     },
     "metadata": {
      "needs_background": "light"
     },
     "output_type": "display_data"
    }
   ],
   "source": [
    "df_corr = df.corr()\n",
    "\n",
    "plt.figure(figsize=(100, 100))\n",
    "sns.heatmap(df_corr, vmax=1, vmin=-1, center=0, cmap='bwr')"
   ]
  },
  {
   "cell_type": "code",
   "execution_count": 15,
   "metadata": {},
   "outputs": [
    {
     "data": {
      "text/html": [
       "<div>\n",
       "<style scoped>\n",
       "    .dataframe tbody tr th:only-of-type {\n",
       "        vertical-align: middle;\n",
       "    }\n",
       "\n",
       "    .dataframe tbody tr th {\n",
       "        vertical-align: top;\n",
       "    }\n",
       "\n",
       "    .dataframe thead th {\n",
       "        text-align: right;\n",
       "    }\n",
       "</style>\n",
       "<table border=\"1\" class=\"dataframe\">\n",
       "  <thead>\n",
       "    <tr style=\"text-align: right;\">\n",
       "      <th></th>\n",
       "      <th>id</th>\n",
       "      <th>賃料</th>\n",
       "      <th>最寄駅徒歩分数</th>\n",
       "      <th>部屋数</th>\n",
       "      <th>L</th>\n",
       "      <th>D</th>\n",
       "      <th>K</th>\n",
       "      <th>S</th>\n",
       "      <th>築総月数</th>\n",
       "      <th>面積数字</th>\n",
       "      <th>何階建数字</th>\n",
       "      <th>バストイレランク</th>\n",
       "      <th>キッチンランク</th>\n",
       "      <th>BSアンテナ</th>\n",
       "      <th>エレベーター</th>\n",
       "      <th>設備ランク</th>\n",
       "      <th>RC（鉄筋コンクリート）</th>\n",
       "      <th>木造</th>\n",
       "    </tr>\n",
       "  </thead>\n",
       "  <tbody>\n",
       "    <tr>\n",
       "      <td>0</td>\n",
       "      <td>1</td>\n",
       "      <td>75000</td>\n",
       "      <td>4</td>\n",
       "      <td>1</td>\n",
       "      <td>0</td>\n",
       "      <td>0</td>\n",
       "      <td>1</td>\n",
       "      <td>0</td>\n",
       "      <td>117</td>\n",
       "      <td>20.01</td>\n",
       "      <td>12</td>\n",
       "      <td>3</td>\n",
       "      <td>1</td>\n",
       "      <td>1</td>\n",
       "      <td>1</td>\n",
       "      <td>4</td>\n",
       "      <td>1</td>\n",
       "      <td>0</td>\n",
       "    </tr>\n",
       "    <tr>\n",
       "      <td>1</td>\n",
       "      <td>2</td>\n",
       "      <td>76000</td>\n",
       "      <td>5</td>\n",
       "      <td>1</td>\n",
       "      <td>0</td>\n",
       "      <td>0</td>\n",
       "      <td>0</td>\n",
       "      <td>0</td>\n",
       "      <td>538</td>\n",
       "      <td>16.50</td>\n",
       "      <td>10</td>\n",
       "      <td>1</td>\n",
       "      <td>1</td>\n",
       "      <td>0</td>\n",
       "      <td>1</td>\n",
       "      <td>5</td>\n",
       "      <td>0</td>\n",
       "      <td>0</td>\n",
       "    </tr>\n",
       "    <tr>\n",
       "      <td>2</td>\n",
       "      <td>3</td>\n",
       "      <td>110000</td>\n",
       "      <td>6</td>\n",
       "      <td>1</td>\n",
       "      <td>0</td>\n",
       "      <td>0</td>\n",
       "      <td>1</td>\n",
       "      <td>0</td>\n",
       "      <td>102</td>\n",
       "      <td>22.05</td>\n",
       "      <td>15</td>\n",
       "      <td>5</td>\n",
       "      <td>1</td>\n",
       "      <td>1</td>\n",
       "      <td>1</td>\n",
       "      <td>6</td>\n",
       "      <td>1</td>\n",
       "      <td>0</td>\n",
       "    </tr>\n",
       "    <tr>\n",
       "      <td>3</td>\n",
       "      <td>4</td>\n",
       "      <td>150000</td>\n",
       "      <td>3</td>\n",
       "      <td>2</td>\n",
       "      <td>1</td>\n",
       "      <td>1</td>\n",
       "      <td>1</td>\n",
       "      <td>0</td>\n",
       "      <td>352</td>\n",
       "      <td>60.48</td>\n",
       "      <td>4</td>\n",
       "      <td>3</td>\n",
       "      <td>0</td>\n",
       "      <td>0</td>\n",
       "      <td>1</td>\n",
       "      <td>3</td>\n",
       "      <td>1</td>\n",
       "      <td>0</td>\n",
       "    </tr>\n",
       "    <tr>\n",
       "      <td>4</td>\n",
       "      <td>5</td>\n",
       "      <td>74000</td>\n",
       "      <td>5</td>\n",
       "      <td>2</td>\n",
       "      <td>0</td>\n",
       "      <td>1</td>\n",
       "      <td>1</td>\n",
       "      <td>0</td>\n",
       "      <td>379</td>\n",
       "      <td>39.66</td>\n",
       "      <td>2</td>\n",
       "      <td>2</td>\n",
       "      <td>0</td>\n",
       "      <td>0</td>\n",
       "      <td>0</td>\n",
       "      <td>2</td>\n",
       "      <td>0</td>\n",
       "      <td>1</td>\n",
       "    </tr>\n",
       "    <tr>\n",
       "      <td>...</td>\n",
       "      <td>...</td>\n",
       "      <td>...</td>\n",
       "      <td>...</td>\n",
       "      <td>...</td>\n",
       "      <td>...</td>\n",
       "      <td>...</td>\n",
       "      <td>...</td>\n",
       "      <td>...</td>\n",
       "      <td>...</td>\n",
       "      <td>...</td>\n",
       "      <td>...</td>\n",
       "      <td>...</td>\n",
       "      <td>...</td>\n",
       "      <td>...</td>\n",
       "      <td>...</td>\n",
       "      <td>...</td>\n",
       "      <td>...</td>\n",
       "      <td>...</td>\n",
       "    </tr>\n",
       "    <tr>\n",
       "      <td>28608</td>\n",
       "      <td>31466</td>\n",
       "      <td>80000</td>\n",
       "      <td>7</td>\n",
       "      <td>2</td>\n",
       "      <td>0</td>\n",
       "      <td>1</td>\n",
       "      <td>1</td>\n",
       "      <td>0</td>\n",
       "      <td>360</td>\n",
       "      <td>37.90</td>\n",
       "      <td>3</td>\n",
       "      <td>3</td>\n",
       "      <td>0</td>\n",
       "      <td>0</td>\n",
       "      <td>0</td>\n",
       "      <td>2</td>\n",
       "      <td>0</td>\n",
       "      <td>0</td>\n",
       "    </tr>\n",
       "    <tr>\n",
       "      <td>28609</td>\n",
       "      <td>31467</td>\n",
       "      <td>54500</td>\n",
       "      <td>4</td>\n",
       "      <td>1</td>\n",
       "      <td>0</td>\n",
       "      <td>0</td>\n",
       "      <td>0</td>\n",
       "      <td>0</td>\n",
       "      <td>475</td>\n",
       "      <td>12.04</td>\n",
       "      <td>4</td>\n",
       "      <td>0</td>\n",
       "      <td>-1</td>\n",
       "      <td>0</td>\n",
       "      <td>0</td>\n",
       "      <td>2</td>\n",
       "      <td>1</td>\n",
       "      <td>0</td>\n",
       "    </tr>\n",
       "    <tr>\n",
       "      <td>28610</td>\n",
       "      <td>31468</td>\n",
       "      <td>125000</td>\n",
       "      <td>5</td>\n",
       "      <td>3</td>\n",
       "      <td>0</td>\n",
       "      <td>1</td>\n",
       "      <td>1</td>\n",
       "      <td>0</td>\n",
       "      <td>550</td>\n",
       "      <td>60.00</td>\n",
       "      <td>5</td>\n",
       "      <td>3</td>\n",
       "      <td>0</td>\n",
       "      <td>0</td>\n",
       "      <td>0</td>\n",
       "      <td>3</td>\n",
       "      <td>0</td>\n",
       "      <td>0</td>\n",
       "    </tr>\n",
       "    <tr>\n",
       "      <td>28611</td>\n",
       "      <td>31469</td>\n",
       "      <td>98000</td>\n",
       "      <td>4</td>\n",
       "      <td>1</td>\n",
       "      <td>0</td>\n",
       "      <td>1</td>\n",
       "      <td>1</td>\n",
       "      <td>0</td>\n",
       "      <td>132</td>\n",
       "      <td>29.59</td>\n",
       "      <td>2</td>\n",
       "      <td>2</td>\n",
       "      <td>1</td>\n",
       "      <td>0</td>\n",
       "      <td>0</td>\n",
       "      <td>4</td>\n",
       "      <td>0</td>\n",
       "      <td>1</td>\n",
       "    </tr>\n",
       "    <tr>\n",
       "      <td>28612</td>\n",
       "      <td>31470</td>\n",
       "      <td>81000</td>\n",
       "      <td>5</td>\n",
       "      <td>1</td>\n",
       "      <td>0</td>\n",
       "      <td>0</td>\n",
       "      <td>1</td>\n",
       "      <td>0</td>\n",
       "      <td>722</td>\n",
       "      <td>25.00</td>\n",
       "      <td>3</td>\n",
       "      <td>1</td>\n",
       "      <td>0</td>\n",
       "      <td>0</td>\n",
       "      <td>0</td>\n",
       "      <td>1</td>\n",
       "      <td>0</td>\n",
       "      <td>0</td>\n",
       "    </tr>\n",
       "  </tbody>\n",
       "</table>\n",
       "<p>28613 rows × 18 columns</p>\n",
       "</div>"
      ],
      "text/plain": [
       "          id      賃料  最寄駅徒歩分数  部屋数  L  D  K  S  築総月数   面積数字  何階建数字  バストイレランク  \\\n",
       "0          1   75000        4    1  0  0  1  0   117  20.01     12         3   \n",
       "1          2   76000        5    1  0  0  0  0   538  16.50     10         1   \n",
       "2          3  110000        6    1  0  0  1  0   102  22.05     15         5   \n",
       "3          4  150000        3    2  1  1  1  0   352  60.48      4         3   \n",
       "4          5   74000        5    2  0  1  1  0   379  39.66      2         2   \n",
       "...      ...     ...      ...  ... .. .. .. ..   ...    ...    ...       ...   \n",
       "28608  31466   80000        7    2  0  1  1  0   360  37.90      3         3   \n",
       "28609  31467   54500        4    1  0  0  0  0   475  12.04      4         0   \n",
       "28610  31468  125000        5    3  0  1  1  0   550  60.00      5         3   \n",
       "28611  31469   98000        4    1  0  1  1  0   132  29.59      2         2   \n",
       "28612  31470   81000        5    1  0  0  1  0   722  25.00      3         1   \n",
       "\n",
       "       キッチンランク  BSアンテナ  エレベーター  設備ランク  RC（鉄筋コンクリート）  木造  \n",
       "0            1       1       1      4             1   0  \n",
       "1            1       0       1      5             0   0  \n",
       "2            1       1       1      6             1   0  \n",
       "3            0       0       1      3             1   0  \n",
       "4            0       0       0      2             0   1  \n",
       "...        ...     ...     ...    ...           ...  ..  \n",
       "28608        0       0       0      2             0   0  \n",
       "28609       -1       0       0      2             1   0  \n",
       "28610        0       0       0      3             0   0  \n",
       "28611        1       0       0      4             0   1  \n",
       "28612        0       0       0      1             0   0  \n",
       "\n",
       "[28613 rows x 18 columns]"
      ]
     },
     "execution_count": 15,
     "metadata": {},
     "output_type": "execute_result"
    }
   ],
   "source": [
    "df"
   ]
  },
  {
   "cell_type": "markdown",
   "metadata": {},
   "source": [
    "データを、学習用train（この後、モデル作成のための学習用model_trainとモデル評価用model_testに分ける）と予測用predict（賃料未知のデータということにしておく）に分割"
   ]
  },
  {
   "cell_type": "code",
   "execution_count": 16,
   "metadata": {},
   "outputs": [],
   "source": [
    "# 評価用データとして元データからランダムに300件を抽出\n",
    "df_predict = df.sample(n=300, random_state=0)"
   ]
  },
  {
   "cell_type": "code",
   "execution_count": 17,
   "metadata": {},
   "outputs": [],
   "source": [
    "# 学習用データは元データから評価用データを除いたもの\n",
    "df_train = df[~df['id'].isin(df_predict['id'])]"
   ]
  },
  {
   "cell_type": "code",
   "execution_count": 18,
   "metadata": {},
   "outputs": [],
   "source": [
    "# df_xxx_xは目的変数を除去したデータ\n",
    "df_train_x = df_train.drop(['賃料'], axis=1)"
   ]
  },
  {
   "cell_type": "code",
   "execution_count": 19,
   "metadata": {},
   "outputs": [],
   "source": [
    "# df_xxx_yは目的変数のみのデータ\n",
    "df_train_y = df_train['賃料']"
   ]
  },
  {
   "cell_type": "code",
   "execution_count": 20,
   "metadata": {},
   "outputs": [],
   "source": [
    "# df_xxx_xは目的変数を除去したデータ\n",
    "df_predict_x = df_predict.drop(['賃料'], axis=1)"
   ]
  },
  {
   "cell_type": "code",
   "execution_count": 21,
   "metadata": {},
   "outputs": [],
   "source": [
    "# df_xxx_yは目的変数のみのデータ\n",
    "df_predict_y = df_predict['賃料']"
   ]
  },
  {
   "cell_type": "code",
   "execution_count": 22,
   "metadata": {},
   "outputs": [],
   "source": [
    "# idだけ保持しておく\n",
    "df_train_team_x = df_train['id']\n",
    "df_predict_team_x = df_predict['id']"
   ]
  },
  {
   "cell_type": "markdown",
   "metadata": {},
   "source": [
    "idデータの消去"
   ]
  },
  {
   "cell_type": "code",
   "execution_count": 23,
   "metadata": {},
   "outputs": [],
   "source": [
    "df_train_x = df_train_x.drop(['id'], axis=1)"
   ]
  },
  {
   "cell_type": "code",
   "execution_count": 24,
   "metadata": {},
   "outputs": [],
   "source": [
    "df_predict_x = df_predict_x.drop(['id'], axis=1)"
   ]
  },
  {
   "cell_type": "code",
   "execution_count": 25,
   "metadata": {},
   "outputs": [
    {
     "data": {
      "text/html": [
       "<div>\n",
       "<style scoped>\n",
       "    .dataframe tbody tr th:only-of-type {\n",
       "        vertical-align: middle;\n",
       "    }\n",
       "\n",
       "    .dataframe tbody tr th {\n",
       "        vertical-align: top;\n",
       "    }\n",
       "\n",
       "    .dataframe thead th {\n",
       "        text-align: right;\n",
       "    }\n",
       "</style>\n",
       "<table border=\"1\" class=\"dataframe\">\n",
       "  <thead>\n",
       "    <tr style=\"text-align: right;\">\n",
       "      <th></th>\n",
       "      <th>最寄駅徒歩分数</th>\n",
       "      <th>部屋数</th>\n",
       "      <th>L</th>\n",
       "      <th>D</th>\n",
       "      <th>K</th>\n",
       "      <th>S</th>\n",
       "      <th>築総月数</th>\n",
       "      <th>面積数字</th>\n",
       "      <th>何階建数字</th>\n",
       "      <th>バストイレランク</th>\n",
       "      <th>キッチンランク</th>\n",
       "      <th>BSアンテナ</th>\n",
       "      <th>エレベーター</th>\n",
       "      <th>設備ランク</th>\n",
       "      <th>RC（鉄筋コンクリート）</th>\n",
       "      <th>木造</th>\n",
       "    </tr>\n",
       "  </thead>\n",
       "  <tbody>\n",
       "    <tr>\n",
       "      <td>0</td>\n",
       "      <td>4</td>\n",
       "      <td>1</td>\n",
       "      <td>0</td>\n",
       "      <td>0</td>\n",
       "      <td>1</td>\n",
       "      <td>0</td>\n",
       "      <td>117</td>\n",
       "      <td>20.01</td>\n",
       "      <td>12</td>\n",
       "      <td>3</td>\n",
       "      <td>1</td>\n",
       "      <td>1</td>\n",
       "      <td>1</td>\n",
       "      <td>4</td>\n",
       "      <td>1</td>\n",
       "      <td>0</td>\n",
       "    </tr>\n",
       "    <tr>\n",
       "      <td>1</td>\n",
       "      <td>5</td>\n",
       "      <td>1</td>\n",
       "      <td>0</td>\n",
       "      <td>0</td>\n",
       "      <td>0</td>\n",
       "      <td>0</td>\n",
       "      <td>538</td>\n",
       "      <td>16.50</td>\n",
       "      <td>10</td>\n",
       "      <td>1</td>\n",
       "      <td>1</td>\n",
       "      <td>0</td>\n",
       "      <td>1</td>\n",
       "      <td>5</td>\n",
       "      <td>0</td>\n",
       "      <td>0</td>\n",
       "    </tr>\n",
       "    <tr>\n",
       "      <td>2</td>\n",
       "      <td>6</td>\n",
       "      <td>1</td>\n",
       "      <td>0</td>\n",
       "      <td>0</td>\n",
       "      <td>1</td>\n",
       "      <td>0</td>\n",
       "      <td>102</td>\n",
       "      <td>22.05</td>\n",
       "      <td>15</td>\n",
       "      <td>5</td>\n",
       "      <td>1</td>\n",
       "      <td>1</td>\n",
       "      <td>1</td>\n",
       "      <td>6</td>\n",
       "      <td>1</td>\n",
       "      <td>0</td>\n",
       "    </tr>\n",
       "    <tr>\n",
       "      <td>3</td>\n",
       "      <td>3</td>\n",
       "      <td>2</td>\n",
       "      <td>1</td>\n",
       "      <td>1</td>\n",
       "      <td>1</td>\n",
       "      <td>0</td>\n",
       "      <td>352</td>\n",
       "      <td>60.48</td>\n",
       "      <td>4</td>\n",
       "      <td>3</td>\n",
       "      <td>0</td>\n",
       "      <td>0</td>\n",
       "      <td>1</td>\n",
       "      <td>3</td>\n",
       "      <td>1</td>\n",
       "      <td>0</td>\n",
       "    </tr>\n",
       "    <tr>\n",
       "      <td>4</td>\n",
       "      <td>5</td>\n",
       "      <td>2</td>\n",
       "      <td>0</td>\n",
       "      <td>1</td>\n",
       "      <td>1</td>\n",
       "      <td>0</td>\n",
       "      <td>379</td>\n",
       "      <td>39.66</td>\n",
       "      <td>2</td>\n",
       "      <td>2</td>\n",
       "      <td>0</td>\n",
       "      <td>0</td>\n",
       "      <td>0</td>\n",
       "      <td>2</td>\n",
       "      <td>0</td>\n",
       "      <td>1</td>\n",
       "    </tr>\n",
       "  </tbody>\n",
       "</table>\n",
       "</div>"
      ],
      "text/plain": [
       "   最寄駅徒歩分数  部屋数  L  D  K  S  築総月数   面積数字  何階建数字  バストイレランク  キッチンランク  BSアンテナ  \\\n",
       "0        4    1  0  0  1  0   117  20.01     12         3        1       1   \n",
       "1        5    1  0  0  0  0   538  16.50     10         1        1       0   \n",
       "2        6    1  0  0  1  0   102  22.05     15         5        1       1   \n",
       "3        3    2  1  1  1  0   352  60.48      4         3        0       0   \n",
       "4        5    2  0  1  1  0   379  39.66      2         2        0       0   \n",
       "\n",
       "   エレベーター  設備ランク  RC（鉄筋コンクリート）  木造  \n",
       "0       1      4             1   0  \n",
       "1       1      5             0   0  \n",
       "2       1      6             1   0  \n",
       "3       1      3             1   0  \n",
       "4       0      2             0   1  "
      ]
     },
     "execution_count": 25,
     "metadata": {},
     "output_type": "execute_result"
    }
   ],
   "source": [
    "df_train_x.head()"
   ]
  },
  {
   "cell_type": "markdown",
   "metadata": {},
   "source": [
    "標準化する"
   ]
  },
  {
   "cell_type": "code",
   "execution_count": 26,
   "metadata": {},
   "outputs": [],
   "source": [
    "from sklearn.preprocessing import StandardScaler"
   ]
  },
  {
   "cell_type": "code",
   "execution_count": 27,
   "metadata": {},
   "outputs": [
    {
     "data": {
      "text/plain": [
       "StandardScaler(copy=True, with_mean=True, with_std=True)"
      ]
     },
     "execution_count": 27,
     "metadata": {},
     "output_type": "execute_result"
    }
   ],
   "source": [
    "#学習用データ\n",
    "x_sc_df = StandardScaler()\n",
    "\n",
    "#元データから平均と分散の算出\n",
    "x_sc_df.fit(df_train_x)"
   ]
  },
  {
   "cell_type": "code",
   "execution_count": 28,
   "metadata": {},
   "outputs": [],
   "source": [
    "#元データを標準化\n",
    "df_train_x_std = x_sc_df.transform(df_train_x)"
   ]
  },
  {
   "cell_type": "code",
   "execution_count": 29,
   "metadata": {},
   "outputs": [
    {
     "data": {
      "text/plain": [
       "StandardScaler(copy=True, with_mean=True, with_std=True)"
      ]
     },
     "execution_count": 29,
     "metadata": {},
     "output_type": "execute_result"
    }
   ],
   "source": [
    "#予測用データ\n",
    "x_sc_df = StandardScaler()\n",
    "\n",
    "#元データから平均と分析の算出\n",
    "x_sc_df.fit(df_predict_x)"
   ]
  },
  {
   "cell_type": "code",
   "execution_count": 30,
   "metadata": {},
   "outputs": [],
   "source": [
    "#元データを標準化\n",
    "df_predict_x_std = x_sc_df.transform(df_predict_x)"
   ]
  },
  {
   "cell_type": "code",
   "execution_count": 31,
   "metadata": {},
   "outputs": [
    {
     "data": {
      "text/plain": [
       "array([[-0.43167919, -0.44956319, -0.54139029, ...,  0.64166363,\n",
       "         0.85096294, -0.4843221 ],\n",
       "       [ 0.76300492, -0.44956319, -0.54139029, ...,  0.64166363,\n",
       "         0.85096294, -0.4843221 ],\n",
       "       [ 0.76300492, -0.44956319, -0.54139029, ...,  0.64166363,\n",
       "         0.85096294, -0.4843221 ],\n",
       "       ...,\n",
       "       [-0.19274237, -0.44956319, -0.54139029, ..., -2.18090366,\n",
       "         0.85096294, -0.4843221 ],\n",
       "       [-0.19274237, -0.44956319,  1.84709629, ..., -1.6163902 ,\n",
       "        -1.1751393 , -0.4843221 ],\n",
       "       [-0.19274237, -0.44956319, -0.54139029, ...,  0.64166363,\n",
       "         0.85096294, -0.4843221 ]])"
      ]
     },
     "execution_count": 31,
     "metadata": {},
     "output_type": "execute_result"
    }
   ],
   "source": [
    "df_predict_x_std"
   ]
  },
  {
   "cell_type": "code",
   "execution_count": 32,
   "metadata": {},
   "outputs": [],
   "source": [
    "#目的変数は一行だけなので、公式に当てはめて計算\n",
    "df_train_y_std = (df_train_y - df_train_y.mean()) / df_train_y.std()\n",
    "df_predict_y_std = (df_predict_y - df_predict_y.mean()) / df_predict_y.std()"
   ]
  },
  {
   "cell_type": "markdown",
   "metadata": {},
   "source": [
    "重回帰分析のためのモデル作成"
   ]
  },
  {
   "cell_type": "code",
   "execution_count": 33,
   "metadata": {},
   "outputs": [],
   "source": [
    "from sklearn.linear_model import LinearRegression"
   ]
  },
  {
   "cell_type": "code",
   "execution_count": 34,
   "metadata": {},
   "outputs": [],
   "source": [
    "from sklearn.model_selection import train_test_split\n",
    "linreg = LinearRegression()"
   ]
  },
  {
   "cell_type": "code",
   "execution_count": 35,
   "metadata": {},
   "outputs": [
    {
     "data": {
      "text/plain": [
       "LinearRegression(copy_X=True, fit_intercept=True, n_jobs=None, normalize=False)"
      ]
     },
     "execution_count": 35,
     "metadata": {},
     "output_type": "execute_result"
    }
   ],
   "source": [
    "#線形回帰モデルへ当てはめ\n",
    "linreg.fit(df_train_x_std, df_train_y_std)"
   ]
  },
  {
   "cell_type": "code",
   "execution_count": 36,
   "metadata": {},
   "outputs": [
    {
     "data": {
      "text/plain": [
       "array([[-0.71470467, -0.45710197, -0.54201132, ...,  0.14859101,\n",
       "         0.92414126, -0.47499257],\n",
       "       [-0.49223215, -0.45710197, -0.54201132, ...,  0.71512173,\n",
       "        -1.08208566, -0.47499257],\n",
       "       [-0.26975962, -0.45710197, -0.54201132, ...,  1.28165246,\n",
       "         0.92414126, -0.47499257],\n",
       "       ...,\n",
       "       [-0.49223215,  3.37017233, -0.54201132, ..., -0.41793972,\n",
       "        -1.08208566, -0.47499257],\n",
       "       [-0.71470467, -0.45710197, -0.54201132, ...,  0.14859101,\n",
       "        -1.08208566,  2.1052961 ],\n",
       "       [-0.49223215, -0.45710197, -0.54201132, ..., -1.55100117,\n",
       "        -1.08208566, -0.47499257]])"
      ]
     },
     "execution_count": 36,
     "metadata": {},
     "output_type": "execute_result"
    }
   ],
   "source": [
    "df_train_x_std"
   ]
  },
  {
   "cell_type": "code",
   "execution_count": 37,
   "metadata": {},
   "outputs": [
    {
     "data": {
      "text/plain": [
       "0       -0.752880\n",
       "1       -0.725438\n",
       "2        0.207578\n",
       "3        1.305244\n",
       "4       -0.780321\n",
       "           ...   \n",
       "28608   -0.615671\n",
       "28609   -1.315434\n",
       "28610    0.619203\n",
       "28611   -0.121722\n",
       "28612   -0.588230\n",
       "Name: 賃料, Length: 28313, dtype: float64"
      ]
     },
     "execution_count": 37,
     "metadata": {},
     "output_type": "execute_result"
    }
   ],
   "source": [
    "df_train_y_std"
   ]
  },
  {
   "cell_type": "code",
   "execution_count": 38,
   "metadata": {},
   "outputs": [],
   "source": [
    "test_result = linreg.predict(df_train_x_std)"
   ]
  },
  {
   "cell_type": "code",
   "execution_count": 39,
   "metadata": {},
   "outputs": [],
   "source": [
    "# 予測結果を逆標準化\n",
    "# 予測値\n",
    "y_test_data_predict = test_result * df_train_y.std() + df_train_y.mean()\n",
    "# 正解\n",
    "y_pred_val = df_train_y_std * df_train_y.std() + df_train_y.mean()"
   ]
  },
  {
   "cell_type": "code",
   "execution_count": 40,
   "metadata": {},
   "outputs": [
    {
     "name": "stdout",
     "output_type": "stream",
     "text": [
      "Requirement already satisfied: japanize-matplotlib in c:\\users\\yk13525\\appdata\\local\\continuum\\anaconda3\\lib\\site-packages (1.0.5)\n",
      "Note: you may need to restart the kernel to use updated packages.\n"
     ]
    }
   ],
   "source": [
    "pip install japanize-matplotlib"
   ]
  },
  {
   "cell_type": "code",
   "execution_count": null,
   "metadata": {},
   "outputs": [],
   "source": []
  },
  {
   "cell_type": "code",
   "execution_count": 41,
   "metadata": {},
   "outputs": [
    {
     "data": {
      "text/plain": [
       "[<matplotlib.lines.Line2D at 0x20d031a0708>]"
      ]
     },
     "execution_count": 41,
     "metadata": {},
     "output_type": "execute_result"
    },
    {
     "data": {
      "image/png": "[encoded data removed]",
      "text/plain": [
       "<Figure size 2160x2160 with 1 Axes>"
      ]
     },
     "metadata": {
      "needs_background": "light"
     },
     "output_type": "display_data"
    }
   ],
   "source": [
    "import matplotlib.pyplot as plt\n",
    "%matplotlib inline\n",
    "plt.figure(figsize=(30,30))\n",
    "plt.scatter(y_pred_val, y_test_data_predict)\n",
    "plt.xlabel(\"Actual Money\")\n",
    "plt.ylabel(\"Tested Money\")\n",
    "plt.gca().set_aspect(\"equal\", adjustable=\"box\")\n",
    "\n",
    "x = np.arange(0, 250000)\n",
    "y=x\n",
    "plt.plot(x,y,color=\"red\")"
   ]
  },
  {
   "cell_type": "code",
   "execution_count": 42,
   "metadata": {},
   "outputs": [
    {
     "name": "stdout",
     "output_type": "stream",
     "text": [
      "RMSE =  17519.872189953094\n"
     ]
    }
   ],
   "source": [
    "rmse = np.sqrt(sum((y_pred_val - y_test_data_predict) ** 2) / len(y_pred_val))\n",
    "print(\"RMSE = \", rmse)"
   ]
  },
  {
   "cell_type": "code",
   "execution_count": 43,
   "metadata": {},
   "outputs": [],
   "source": [
    "from matplotlib import pyplot as plt\n",
    "plt.rcParams['font.family'] = 'IPAexGothic'"
   ]
  },
  {
   "cell_type": "code",
   "execution_count": 44,
   "metadata": {},
   "outputs": [
    {
     "data": {
      "text/plain": [
       "設備ランク          -0.000743\n",
       "S              -0.003704\n",
       "木造             -0.011013\n",
       "BSアンテナ         -0.011141\n",
       "K              -0.029270\n",
       "部屋数            -0.048226\n",
       "エレベーター          0.060711\n",
       "キッチンランク         0.063464\n",
       "RC（鉄筋コンクリート）    0.093197\n",
       "L               0.100006\n",
       "D               0.112328\n",
       "築総月数           -0.133612\n",
       "最寄駅徒歩分数        -0.136217\n",
       "バストイレランク        0.177964\n",
       "何階建数字           0.189421\n",
       "面積数字            0.445057\n",
       "Name: Coef, dtype: float64"
      ]
     },
     "execution_count": 44,
     "metadata": {},
     "output_type": "execute_result"
    },
    {
     "data": {
      "image/png": "[encoded data removed]",
      "text/plain": [
       "<Figure size 432x288 with 1 Axes>"
      ]
     },
     "metadata": {
      "needs_background": "light"
     },
     "output_type": "display_data"
    }
   ],
   "source": [
    "coef_df = pd.DataFrame({\"Coef\":linreg.coef_, \"Coef_abs\":np.abs(linreg.coef_)})\n",
    "coef_df.index = df_train_x.columns\n",
    "coef_df= coef_df.sort_values(by=\"Coef_abs\")\n",
    "coef_df[\"Coef\"].tail(40).plot(kind=\"barh\", title=\"Coefficients\", color=\"red\")\n",
    "coef_df[\"Coef\"].tail(40)"
   ]
  },
  {
   "cell_type": "code",
   "execution_count": 45,
   "metadata": {},
   "outputs": [
    {
     "data": {
      "text/plain": [
       "'C:\\\\Users\\\\yk13525\\\\AppData\\\\Local\\\\Continuum\\\\anaconda3\\\\lib\\\\site-packages\\\\matplotlib\\\\mpl-data\\\\matplotlibrc'"
      ]
     },
     "execution_count": 45,
     "metadata": {},
     "output_type": "execute_result"
    }
   ],
   "source": [
    "import matplotlib\n",
    "matplotlib.matplotlib_fname()"
   ]
  },
  {
   "cell_type": "code",
   "execution_count": 46,
   "metadata": {},
   "outputs": [
    {
     "data": {
      "text/plain": [
       "'C:\\\\Users\\\\yk13525\\\\.matplotlib'"
      ]
     },
     "execution_count": 46,
     "metadata": {},
     "output_type": "execute_result"
    }
   ],
   "source": [
    "import matplotlib as mpl\n",
    "mpl.get_configdir()"
   ]
  },
  {
   "cell_type": "markdown",
   "metadata": {},
   "source": [
    "#学習データと予測データに分割(学習データ:予測データ=7:3)\n",
    "x_train_data, x_test_data, y_train_data, y_test_data = train_test_split(df_train_x_std, df_train_y_std, test_size=0.3)"
   ]
  },
  {
   "cell_type": "markdown",
   "metadata": {},
   "source": [
    "print(x_train_data)"
   ]
  },
  {
   "cell_type": "markdown",
   "metadata": {},
   "source": [
    "#線形回帰モデルへ当てはめ\n",
    "linreg.fit(x_train_data, y_train_data)"
   ]
  },
  {
   "cell_type": "markdown",
   "metadata": {},
   "source": [
    "#予測実行\n",
    "test_result = linreg.predict(x_test_data)"
   ]
  },
  {
   "cell_type": "markdown",
   "metadata": {},
   "source": [
    "# 予測結果を逆標準化\n",
    "# 予測値\n",
    "y_test_data_predict = test_result * df_train_y.std() + df_train_y.mean()\n",
    "# 正解\n",
    "y_pred_val = y_test_data * df_train_y.std() + df_train_y.mean()"
   ]
  },
  {
   "cell_type": "markdown",
   "metadata": {},
   "source": [
    "import matplotlib.pyplot as plt\n",
    "%matplotlib inline\n",
    "plt.figure(figsize=(10,10))\n",
    "plt.scatter(y_pred_val, y_test_data_predict)\n",
    "plt.xlabel(\"Actual Money\")\n",
    "plt.ylabel(\"Tested Money\")\n",
    "plt.gca().set_aspect(\"equal\", adjustable=\"box\")\n",
    "\n",
    "x = np.arange(0, 1000)\n",
    "y=x\n",
    "plt.plot(x,y,color=\"red\")"
   ]
  },
  {
   "cell_type": "markdown",
   "metadata": {},
   "source": [
    "rmse = np.sqrt(sum((y_pred_val - y_test_data_predict) ** 2) / len(y_pred_val))\n",
    "print(\"RMSE = \", rmse)"
   ]
  },
  {
   "cell_type": "markdown",
   "metadata": {},
   "source": [
    "coef_df = pd.DataFrame({\"Coef\":linreg.coef_, \"Coef_abs\":np.abs(linreg.coef_)})\n",
    "coef_df.index = df_train_x.columns\n",
    "coef_df= coef_df.sort_values(by=\"Coef_abs\")\n",
    "coef_df[\"Coef\"].tail(20).plot(kind=\"barh\", title=\"Coefficients\", color=\"red\")\n",
    "coef_df[\"Coef\"].tail(20)"
   ]
  },
  {
   "cell_type": "markdown",
   "metadata": {},
   "source": [
    "linreg_all = LinearRegression()"
   ]
  },
  {
   "cell_type": "markdown",
   "metadata": {},
   "source": [
    "linreg_all.fit(df_train_x_std,df_train_y_std)"
   ]
  },
  {
   "cell_type": "markdown",
   "metadata": {},
   "source": [
    "y_predict_result = linreg_all.predict(df_predict_x_std)"
   ]
  },
  {
   "cell_type": "markdown",
   "metadata": {},
   "source": [
    "coef_all_df = pd.DataFrame({\"Coef\":linreg_all.coef_, \"Coef_abs\":np.abs(linreg_all.coef_)})\n",
    "coef_all_df.index = df_predict_x.columns\n",
    "coef_all_df = coef_all_df.sort_values(by=\"Coef_abs\")\n",
    "coef_all_df[\"Coef\"].tail(20).plot(kind=\"barh\", title=\"Coefficients\", color=\"red\")\n",
    "coef_all_df[\"Coef\"].tail(20)"
   ]
  },
  {
   "cell_type": "markdown",
   "metadata": {},
   "source": [
    "# 予測結果を逆標準化\n",
    "df_predict_y.predict = y_predict_result * df_predict_y.std() + df_predict_y.mean()\n",
    "y_predict_result_val = df_predict_y"
   ]
  },
  {
   "cell_type": "markdown",
   "metadata": {},
   "source": [
    "plt.figure(figsize=(10,10))\n",
    "plt.scatter(y_predict_result_val, df_predict_y.predict)\n",
    "plt.xlabel(\"Actual Ratio\")\n",
    "plt.ylabel(\"Predicted Ratio\")\n",
    "plt.gca().set_aspect(\"equal\", adjustable=\"box\")\n",
    "\n",
    "x = np.arange(0, 2)\n",
    "y=x\n",
    "plt.plot(x,y,color=\"red\")"
   ]
  },
  {
   "cell_type": "markdown",
   "metadata": {},
   "source": [
    "rmse = np.sqrt(sum((y_predict_result_val - df_predict_y.predict) ** 2) / len(y_predict_result_val))\n",
    "print(\"RMSE = \", rmse)"
   ]
  },
  {
   "cell_type": "code",
   "execution_count": null,
   "metadata": {},
   "outputs": [],
   "source": []
  }
 ],
 "metadata": {
  "kernelspec": {
   "display_name": "Python 3",
   "language": "python",
   "name": "python3"
  },
  "language_info": {
   "codemirror_mode": {
    "name": "ipython",
    "version": 3
   },
   "file_extension": ".py",
   "mimetype": "text/x-python",
   "name": "python",
   "nbconvert_exporter": "python",
   "pygments_lexer": "ipython3",
   "version": "3.7.4"
  }
 },
 "nbformat": 4,
 "nbformat_minor": 2
}
